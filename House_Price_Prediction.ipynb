{
  "nbformat": 4,
  "nbformat_minor": 0,
  "metadata": {
    "colab": {
      "provenance": [],
      "authorship_tag": "ABX9TyN36X/eNZ49Wg/JPC5vUIPD",
      "include_colab_link": true
    },
    "kernelspec": {
      "name": "python3",
      "display_name": "Python 3"
    },
    "language_info": {
      "name": "python"
    }
  },
  "cells": [
    {
      "cell_type": "markdown",
      "metadata": {
        "id": "view-in-github",
        "colab_type": "text"
      },
      "source": [
        "<a href=\"https://colab.research.google.com/github/meesum5445/Machine_Learning_Projects/blob/main/House_Price_Prediction.ipynb\" target=\"_parent\"><img src=\"https://colab.research.google.com/assets/colab-badge.svg\" alt=\"Open In Colab\"/></a>"
      ]
    },
    {
      "cell_type": "markdown",
      "source": [
        "Importing Dependencies"
      ],
      "metadata": {
        "id": "ODE63zs5yUth"
      }
    },
    {
      "cell_type": "code",
      "execution_count": 77,
      "metadata": {
        "id": "OqOFAxZyx6ht"
      },
      "outputs": [],
      "source": [
        "import numpy as np\n",
        "import pandas as pd\n",
        "import matplotlib.pyplot as plt\n",
        "import seaborn as sns\n",
        "from sklearn.model_selection import train_test_split\n",
        "from xgboost import XGBRegressor\n",
        "from sklearn import metrics"
      ]
    },
    {
      "cell_type": "markdown",
      "source": [
        "Load the Boston House Price Dataset"
      ],
      "metadata": {
        "id": "Q7R3cbbTzWGX"
      }
    },
    {
      "cell_type": "code",
      "source": [
        "house_data=pd.read_csv('/content/boston_house_prices.csv')\n",
        "house_data"
      ],
      "metadata": {
        "id": "OPDfWocjzf_4"
      },
      "execution_count": null,
      "outputs": []
    },
    {
      "cell_type": "markdown",
      "source": [
        "Checking Null Values"
      ],
      "metadata": {
        "id": "j3VIsnJa2Y9H"
      }
    },
    {
      "cell_type": "code",
      "source": [
        "house_data.isnull().sum()"
      ],
      "metadata": {
        "id": "RxZ1aWoM2cj3"
      },
      "execution_count": null,
      "outputs": []
    },
    {
      "cell_type": "markdown",
      "source": [
        "Describing Dataset"
      ],
      "metadata": {
        "id": "B83P1nVi_y-H"
      }
    },
    {
      "cell_type": "code",
      "source": [
        "house_data.describe()"
      ],
      "metadata": {
        "id": "NL7hlXG27l3C"
      },
      "execution_count": null,
      "outputs": []
    },
    {
      "cell_type": "markdown",
      "source": [
        "Finding Correlation"
      ],
      "metadata": {
        "id": "xPwA6_39_8ZU"
      }
    },
    {
      "cell_type": "code",
      "source": [
        "correlation=house_data.corr()\n",
        "plt.figure(figsize=(10,10))\n",
        "sns.heatmap(correlation, cbar=True, square=True,fmt='.1f', annot=True, annot_kws={'size':8}, cmap='Blues')"
      ],
      "metadata": {
        "id": "hrs3FAWB8RRA"
      },
      "execution_count": null,
      "outputs": []
    },
    {
      "cell_type": "markdown",
      "source": [
        "Seperating data and labels"
      ],
      "metadata": {
        "id": "02I3vSUJH56E"
      }
    },
    {
      "cell_type": "code",
      "source": [
        "X,Y=house_data.drop(['MEDV'],axis=1),house_data['MEDV']\n"
      ],
      "metadata": {
        "id": "VNumjv8fH_-9"
      },
      "execution_count": 106,
      "outputs": []
    },
    {
      "cell_type": "markdown",
      "source": [
        "Train Test Split"
      ],
      "metadata": {
        "id": "qTn7KyIyLrBi"
      }
    },
    {
      "cell_type": "code",
      "source": [
        "train_X,test_X,train_Y,test_Y=train_test_split(X,Y,test_size=0.2,random_state=2)"
      ],
      "metadata": {
        "id": "q-HGj1WCLsiD"
      },
      "execution_count": 107,
      "outputs": []
    },
    {
      "cell_type": "markdown",
      "source": [
        "Model Training"
      ],
      "metadata": {
        "id": "tcC3Mj_lL7sH"
      }
    },
    {
      "cell_type": "code",
      "source": [
        "model=XGBRegressor()\n",
        "model.fit(train_X,train_Y)"
      ],
      "metadata": {
        "id": "A37TlLBpL9ek"
      },
      "execution_count": null,
      "outputs": []
    },
    {
      "cell_type": "markdown",
      "source": [
        "Model Evaluation"
      ],
      "metadata": {
        "id": "Tdzh5VXcPWFT"
      }
    },
    {
      "cell_type": "code",
      "source": [
        "prediction=model.predict(test_X)\n",
        "print(\"Accuracy of model on R_squared_error is : \",metrics.r2_score(prediction,test_Y))\n",
        "print(\"Accuracy of model on mean_absolute_error is : \",metrics.mean_absolute_error(prediction,test_Y))"
      ],
      "metadata": {
        "colab": {
          "base_uri": "https://localhost:8080/"
        },
        "id": "PaGnp7k3PWkn",
        "outputId": "efb661cb-9462-4255-f33f-791f3b57a0fb"
      },
      "execution_count": 115,
      "outputs": [
        {
          "output_type": "stream",
          "name": "stdout",
          "text": [
            "Accuracy of model on R_squared_error is :  0.8606673938010311\n",
            "Accuracy of model on mean_absolute_error is :  2.2834744154238233\n"
          ]
        }
      ]
    },
    {
      "cell_type": "markdown",
      "source": [
        "Visualizing Actual MEDV and Predicted MEDV"
      ],
      "metadata": {
        "id": "-FjFW-JbUh1X"
      }
    },
    {
      "cell_type": "code",
      "source": [
        "plt.scatter(test_Y,prediction)\n",
        "plt.xlabel(\"Actual MEDV\")\n",
        "plt.ylabel(\"Predicted MEDV\")\n",
        "plt.title(\"Actual MEDV vs Predicted MEDV\")\n",
        "plt.show"
      ],
      "metadata": {
        "id": "muz9sYLkUpJS",
        "outputId": "4aa9fa42-6878-40ba-da2e-1b90f957f22d",
        "colab": {
          "base_uri": "https://localhost:8080/",
          "height": 489
        }
      },
      "execution_count": 116,
      "outputs": [
        {
          "output_type": "execute_result",
          "data": {
            "text/plain": [
              "<function matplotlib.pyplot.show(close=None, block=None)>"
            ]
          },
          "metadata": {},
          "execution_count": 116
        },
        {
          "output_type": "display_data",
          "data": {
            "text/plain": [
              "<Figure size 640x480 with 1 Axes>"
            ],
            "image/png": "[encoded data removed]"
          },
          "metadata": {}
        }
      ]
    }
  ]
}