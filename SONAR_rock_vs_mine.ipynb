{
  "nbformat": 4,
  "nbformat_minor": 0,
  "metadata": {
    "colab": {
      "provenance": [],
      "authorship_tag": "ABX9TyM8RqbffQdBJe6Yst5/pw/I",
      "include_colab_link": true
    },
    "kernelspec": {
      "name": "python3",
      "display_name": "Python 3"
    },
    "language_info": {
      "name": "python"
    }
  },
  "cells": [
    {
      "cell_type": "markdown",
      "metadata": {
        "id": "view-in-github",
        "colab_type": "text"
      },
      "source": [
        "<a href=\"https://colab.research.google.com/github/meesum5445/Machine_Learning_Projects/blob/main/SONAR_rock_vs_mine.ipynb\" target=\"_parent\"><img src=\"https://colab.research.google.com/assets/colab-badge.svg\" alt=\"Open In Colab\"/></a>"
      ]
    },
    {
      "cell_type": "markdown",
      "source": [
        "Importing the dependencies"
      ],
      "metadata": {
        "id": "5uHHacbrIZMQ"
      }
    },
    {
      "cell_type": "code",
      "execution_count": null,
      "metadata": {
        "id": "lKtrgAlJF-tp"
      },
      "outputs": [],
      "source": [
        "import numpy as np\n",
        "import pandas as pd\n",
        "from sklearn.model_selection import train_test_split\n",
        "from sklearn.linear_model import LogisticRegression\n",
        "from sklearn.metrics import accuracy_score"
      ]
    },
    {
      "cell_type": "markdown",
      "source": [
        "Data collection and processing"
      ],
      "metadata": {
        "id": "Et6Ki-NdISAs"
      }
    },
    {
      "cell_type": "code",
      "source": [
        "#Loading dataset to panda dataframe\n",
        "#header=none because there is no header available\n",
        "sonar_data=pd.read_csv('/content/Sonar Data.csv',header=None)"
      ],
      "metadata": {
        "id": "G8JAS4YKIPFI"
      },
      "execution_count": null,
      "outputs": []
    },
    {
      "cell_type": "markdown",
      "source": [
        "Seperating data and labels"
      ],
      "metadata": {
        "id": "00HYByjrNJUb"
      }
    },
    {
      "cell_type": "code",
      "source": [
        "#Drop label from DataSet\n",
        "X=sonar_data.drop(columns=60)\n",
        "#Store label coloumn in a seperate variable\n",
        "Y=sonar_data[60]"
      ],
      "metadata": {
        "id": "QXU0-wu9NNeD"
      },
      "execution_count": null,
      "outputs": []
    },
    {
      "cell_type": "markdown",
      "source": [
        "Train Test split"
      ],
      "metadata": {
        "id": "EQEWNBHXcgwJ"
      }
    },
    {
      "cell_type": "code",
      "source": [
        "X_train,X_test,Y_train,Y_test=train_test_split(X,Y,test_size=0.1,stratify=Y,random_state=1)"
      ],
      "metadata": {
        "id": "w8jkvDg9ciwv"
      },
      "execution_count": null,
      "outputs": []
    },
    {
      "cell_type": "markdown",
      "source": [
        "Training a Model"
      ],
      "metadata": {
        "id": "OHM50eNrgx-i"
      }
    },
    {
      "cell_type": "code",
      "source": [
        "model=LogisticRegression()\n",
        "model.fit(X_train,Y_train)"
      ],
      "metadata": {
        "id": "BSaIrSxlg1sY"
      },
      "execution_count": null,
      "outputs": []
    },
    {
      "cell_type": "markdown",
      "source": [
        "Model Evaluation"
      ],
      "metadata": {
        "id": "eflZCTZREUlC"
      }
    },
    {
      "cell_type": "code",
      "source": [
        "test_data_accuracy=accuracy_score(model.predict(X_test),Y_test)\n",
        "print(\"Accuracy of model is : \",test_data_accuracy)"
      ],
      "metadata": {
        "colab": {
          "base_uri": "https://localhost:8080/"
        },
        "id": "AyPF3aSThuDr",
        "outputId": "7a5f0773-daf2-404a-f811-d51350caf9cf"
      },
      "execution_count": null,
      "outputs": [
        {
          "output_type": "stream",
          "name": "stdout",
          "text": [
            "Accuracy of model is :  0.7619047619047619\n"
          ]
        }
      ]
    },
    {
      "cell_type": "markdown",
      "source": [
        "Making a System of predicting rock and mine\n",
        "\n"
      ],
      "metadata": {
        "id": "y-bR1BXXmKJw"
      }
    },
    {
      "cell_type": "code",
      "source": [
        "data=np.asarray((0.0715,0.0849,0.0587,0.0218,0.0862,0.1801,0.1916,0.1896,0.2960,0.4186,0.4867,0.5249,0.5959,0.6855,0.8573,0.9718,0.8693,0.8711,0.8954,0.9922,0.8980,0.8158,0.8373,0.7541,0.5893,0.5488,0.5643,0.5406,0.4783,0.4439,0.3698,0.2574,0.1478,0.1743,0.1229,0.1588,0.1803,0.1436,0.1667,0.2630,0.2234,0.1239,0.0869,0.2092,0.1499,0.0676,0.0899,0.0927,0.0658,0.0086,0.0216,0.0153,0.0121,0.0096,0.0196,0.0042,0.0066,0.0099,0.0083,0.0124)).reshape(1,-1)\n",
        "\n",
        "prediction=model.predict(data)\n",
        "if prediction[0]=='R':\n",
        "  print(\"It is a Rock\")\n",
        "else:\n",
        "  print(\"It is a Mine\")"
      ],
      "metadata": {
        "colab": {
          "base_uri": "https://localhost:8080/"
        },
        "id": "IFZPq2S2mSbX",
        "outputId": "ff7047fd-43ff-4d85-cd8b-0db7ec212b04"
      },
      "execution_count": null,
      "outputs": [
        {
          "output_type": "stream",
          "name": "stdout",
          "text": [
            "It is a Mine\n"
          ]
        }
      ]
    }
  ]
}