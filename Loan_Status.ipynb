{
  "nbformat": 4,
  "nbformat_minor": 0,
  "metadata": {
    "colab": {
      "provenance": [],
      "authorship_tag": "ABX9TyNCBOnXb+AxHnw3SMAyzzKj",
      "include_colab_link": true
    },
    "kernelspec": {
      "name": "python3",
      "display_name": "Python 3"
    },
    "language_info": {
      "name": "python"
    }
  },
  "cells": [
    {
      "cell_type": "markdown",
      "metadata": {
        "id": "view-in-github",
        "colab_type": "text"
      },
      "source": [
        "<a href=\"https://colab.research.google.com/github/meesum5445/Machine_Learning_Projects/blob/main/Loan_Status.ipynb\" target=\"_parent\"><img src=\"https://colab.research.google.com/assets/colab-badge.svg\" alt=\"Open In Colab\"/></a>"
      ]
    },
    {
      "cell_type": "markdown",
      "source": [
        "Importing Dependencies"
      ],
      "metadata": {
        "id": "vOAefmEBuzDC"
      }
    },
    {
      "cell_type": "code",
      "execution_count": 2,
      "metadata": {
        "id": "jtn8mRVOCS3C"
      },
      "outputs": [],
      "source": [
        "import numpy as np\n",
        "import pandas as pd\n",
        "import seaborn as sns\n",
        "from sklearn.model_selection import train_test_split\n",
        "from sklearn import svm\n",
        "from sklearn.metrics import accuracy_score"
      ]
    },
    {
      "cell_type": "markdown",
      "source": [
        "Loading Data Set"
      ],
      "metadata": {
        "id": "BQcwTz5Zu3Cm"
      }
    },
    {
      "cell_type": "code",
      "source": [
        "loan_dataset=pd.read_csv('/content/Loan Status.csv')"
      ],
      "metadata": {
        "id": "LRbHpR72Mjy6"
      },
      "execution_count": 5,
      "outputs": []
    },
    {
      "cell_type": "markdown",
      "source": [
        "Printing Shape of Data Set"
      ],
      "metadata": {
        "id": "lOZqkEiXu5SF"
      }
    },
    {
      "cell_type": "code",
      "source": [
        "loan_dataset.shape"
      ],
      "metadata": {
        "id": "S20svZ1iNh-H"
      },
      "execution_count": null,
      "outputs": []
    },
    {
      "cell_type": "markdown",
      "source": [
        "Printing first 5 records"
      ],
      "metadata": {
        "id": "cA1OwTftu9et"
      }
    },
    {
      "cell_type": "code",
      "source": [
        "loan_dataset.head()"
      ],
      "metadata": {
        "id": "nF7Ko8k9NXGz"
      },
      "execution_count": null,
      "outputs": []
    },
    {
      "cell_type": "markdown",
      "source": [
        "Describing a Data Set"
      ],
      "metadata": {
        "id": "jrAQTjxvvJcU"
      }
    },
    {
      "cell_type": "code",
      "source": [
        "loan_dataset.describe()"
      ],
      "metadata": {
        "id": "e7rVmkeSNczz"
      },
      "execution_count": null,
      "outputs": []
    },
    {
      "cell_type": "markdown",
      "source": [
        "Checking number of null values of each Feature"
      ],
      "metadata": {
        "id": "vI9WsXy-vRWc"
      }
    },
    {
      "cell_type": "code",
      "source": [
        "loan_dataset.isnull().sum()"
      ],
      "metadata": {
        "id": "89mSWy2NNxsI"
      },
      "execution_count": null,
      "outputs": []
    },
    {
      "cell_type": "markdown",
      "source": [
        "Dropping all records with any null value"
      ],
      "metadata": {
        "id": "L6gJx9gVvWnp"
      }
    },
    {
      "cell_type": "code",
      "source": [
        "loan_dataset=loan_dataset.dropna()"
      ],
      "metadata": {
        "id": "o4Sk8CC7OcLC"
      },
      "execution_count": 9,
      "outputs": []
    },
    {
      "cell_type": "code",
      "source": [
        "loan_dataset.isnull().sum()"
      ],
      "metadata": {
        "id": "ZtLfDlt5OmoY"
      },
      "execution_count": null,
      "outputs": []
    },
    {
      "cell_type": "markdown",
      "source": [
        "Plotting a Graph to see whether Education is linked with Loan Status."
      ],
      "metadata": {
        "id": "rf72ORo2veVS"
      }
    },
    {
      "cell_type": "code",
      "source": [
        "sns.countplot(x='Education',hue='Loan_Status',data=loan_dataset)"
      ],
      "metadata": {
        "id": "reNBkxcQTmWW",
        "colab": {
          "base_uri": "https://localhost:8080/",
          "height": 466
        },
        "outputId": "7fabb538-d3af-46bf-b915-4315f895b1f9"
      },
      "execution_count": 16,
      "outputs": [
        {
          "output_type": "execute_result",
          "data": {
            "text/plain": [
              "<Axes: xlabel='Education', ylabel='count'>"
            ]
          },
          "metadata": {},
          "execution_count": 16
        },
        {
          "output_type": "display_data",
          "data": {
            "text/plain": [
              "<Figure size 640x480 with 1 Axes>"
            ],
            "image/png": "[encoded data removed]"
          },
          "metadata": {}
        }
      ]
    },
    {
      "cell_type": "markdown",
      "source": [
        "Plotting a Graph to see whether Marriage is linked with Loan Status."
      ],
      "metadata": {
        "id": "JdFjNOgsvq4t"
      }
    },
    {
      "cell_type": "code",
      "source": [
        "sns.countplot(x='Married',hue='Loan_Status',data=loan_dataset)"
      ],
      "metadata": {
        "id": "4gbRi1RKUPc6"
      },
      "execution_count": null,
      "outputs": []
    },
    {
      "cell_type": "markdown",
      "source": [
        "Replacing a YES/NO with 1 & 0 for convienient computations\n"
      ],
      "metadata": {
        "id": "pG-9Icsvvyx0"
      }
    },
    {
      "cell_type": "code",
      "source": [
        "loan_dataset.replace({\n",
        "    \"Married\":{'No':0,'Yes':1},\n",
        "    \"Self_Employed\":{'No':0,'Yes':1},\n",
        "    \"Property_Area\":{'Semiurban':3,'Urban':2,'Rural':1},\n",
        "    \"Loan_Status\":{'N':0,'Y':1},\n",
        "    \"Dependents\":{'3+':4},\n",
        "    \"Education\":{'Graduate':1,'Not Graduate':0},\n",
        "    \"Gender\":{'Male':1,'Female':0}}\n",
        "    ,inplace=True\n",
        "    )\n",
        "loan_dataset.head()"
      ],
      "metadata": {
        "id": "a02L7rtoU6kY"
      },
      "execution_count": null,
      "outputs": []
    },
    {
      "cell_type": "markdown",
      "source": [
        "Distributing features and label"
      ],
      "metadata": {
        "id": "E7-I4UPxv_aP"
      }
    },
    {
      "cell_type": "code",
      "source": [
        "X,Y=loan_dataset.drop(columns=['Loan_ID','Loan_Status']),loan_dataset['Loan_Status']"
      ],
      "metadata": {
        "id": "1t3Qgca5bckD"
      },
      "execution_count": 11,
      "outputs": []
    },
    {
      "cell_type": "markdown",
      "source": [
        "Distributing training and test Data Set"
      ],
      "metadata": {
        "id": "AXv_DzH5wEz7"
      }
    },
    {
      "cell_type": "code",
      "source": [
        "train_X,test_X,train_Y,test_Y=train_test_split(X,Y,test_size=0.1,stratify=Y,random_state=2)"
      ],
      "metadata": {
        "id": "JwiZMLP0b0sM"
      },
      "execution_count": 12,
      "outputs": []
    },
    {
      "cell_type": "markdown",
      "source": [
        "Training a Model"
      ],
      "metadata": {
        "id": "uH4ThFo4wJx2"
      }
    },
    {
      "cell_type": "code",
      "source": [
        "model=svm.SVC(kernel='linear')\n",
        "model.fit(train_X,train_Y)"
      ],
      "metadata": {
        "colab": {
          "base_uri": "https://localhost:8080/",
          "height": 75
        },
        "id": "udFF3JMObqqw",
        "outputId": "260560ca-a644-4dcc-edcf-d14a1ca823be"
      },
      "execution_count": 13,
      "outputs": [
        {
          "output_type": "execute_result",
          "data": {
            "text/plain": [
              "SVC(kernel='linear')"
            ],
            "text/html": [
              "<style>#sk-container-id-1 {color: black;background-color: white;}#sk-container-id-1 pre{padding: 0;}#sk-container-id-1 div.sk-toggleable {background-color: white;}#sk-container-id-1 label.sk-toggleable__label {cursor: pointer;display: block;width: 100%;margin-bottom: 0;padding: 0.3em;box-sizing: border-box;text-align: center;}#sk-container-id-1 label.sk-toggleable__label-arrow:before {content: \"▸\";float: left;margin-right: 0.25em;color: #696969;}#sk-container-id-1 label.sk-toggleable__label-arrow:hover:before {color: black;}#sk-container-id-1 div.sk-estimator:hover label.sk-toggleable__label-arrow:before {color: black;}#sk-container-id-1 div.sk-toggleable__content {max-height: 0;max-width: 0;overflow: hidden;text-align: left;background-color: #f0f8ff;}#sk-container-id-1 div.sk-toggleable__content pre {margin: 0.2em;color: black;border-radius: 0.25em;background-color: #f0f8ff;}#sk-container-id-1 input.sk-toggleable__control:checked~div.sk-toggleable__content {max-height: 200px;max-width: 100%;overflow: auto;}#sk-container-id-1 input.sk-toggleable__control:checked~label.sk-toggleable__label-arrow:before {content: \"▾\";}#sk-container-id-1 div.sk-estimator input.sk-toggleable__control:checked~label.sk-toggleable__label {background-color: #d4ebff;}#sk-container-id-1 div.sk-label input.sk-toggleable__control:checked~label.sk-toggleable__label {background-color: #d4ebff;}#sk-container-id-1 input.sk-hidden--visually {border: 0;clip: rect(1px 1px 1px 1px);clip: rect(1px, 1px, 1px, 1px);height: 1px;margin: -1px;overflow: hidden;padding: 0;position: absolute;width: 1px;}#sk-container-id-1 div.sk-estimator {font-family: monospace;background-color: #f0f8ff;border: 1px dotted black;border-radius: 0.25em;box-sizing: border-box;margin-bottom: 0.5em;}#sk-container-id-1 div.sk-estimator:hover {background-color: #d4ebff;}#sk-container-id-1 div.sk-parallel-item::after {content: \"\";width: 100%;border-bottom: 1px solid gray;flex-grow: 1;}#sk-container-id-1 div.sk-label:hover label.sk-toggleable__label {background-color: #d4ebff;}#sk-container-id-1 div.sk-serial::before {content: \"\";position: absolute;border-left: 1px solid gray;box-sizing: border-box;top: 0;bottom: 0;left: 50%;z-index: 0;}#sk-container-id-1 div.sk-serial {display: flex;flex-direction: column;align-items: center;background-color: white;padding-right: 0.2em;padding-left: 0.2em;position: relative;}#sk-container-id-1 div.sk-item {position: relative;z-index: 1;}#sk-container-id-1 div.sk-parallel {display: flex;align-items: stretch;justify-content: center;background-color: white;position: relative;}#sk-container-id-1 div.sk-item::before, #sk-container-id-1 div.sk-parallel-item::before {content: \"\";position: absolute;border-left: 1px solid gray;box-sizing: border-box;top: 0;bottom: 0;left: 50%;z-index: -1;}#sk-container-id-1 div.sk-parallel-item {display: flex;flex-direction: column;z-index: 1;position: relative;background-color: white;}#sk-container-id-1 div.sk-parallel-item:first-child::after {align-self: flex-end;width: 50%;}#sk-container-id-1 div.sk-parallel-item:last-child::after {align-self: flex-start;width: 50%;}#sk-container-id-1 div.sk-parallel-item:only-child::after {width: 0;}#sk-container-id-1 div.sk-dashed-wrapped {border: 1px dashed gray;margin: 0 0.4em 0.5em 0.4em;box-sizing: border-box;padding-bottom: 0.4em;background-color: white;}#sk-container-id-1 div.sk-label label {font-family: monospace;font-weight: bold;display: inline-block;line-height: 1.2em;}#sk-container-id-1 div.sk-label-container {text-align: center;}#sk-container-id-1 div.sk-container {/* jupyter's `normalize.less` sets `[hidden] { display: none; }` but bootstrap.min.css set `[hidden] { display: none !important; }` so we also need the `!important` here to be able to override the default hidden behavior on the sphinx rendered scikit-learn.org. See: https://github.com/scikit-learn/scikit-learn/issues/21755 */display: inline-block !important;position: relative;}#sk-container-id-1 div.sk-text-repr-fallback {display: none;}</style><div id=\"sk-container-id-1\" class=\"sk-top-container\"><div class=\"sk-text-repr-fallback\"><pre>SVC(kernel=&#x27;linear&#x27;)</pre><b>In a Jupyter environment, please rerun this cell to show the HTML representation or trust the notebook. <br />On GitHub, the HTML representation is unable to render, please try loading this page with nbviewer.org.</b></div><div class=\"sk-container\" hidden><div class=\"sk-item\"><div class=\"sk-estimator sk-toggleable\"><input class=\"sk-toggleable__control sk-hidden--visually\" id=\"sk-estimator-id-1\" type=\"checkbox\" checked><label for=\"sk-estimator-id-1\" class=\"sk-toggleable__label sk-toggleable__label-arrow\">SVC</label><div class=\"sk-toggleable__content\"><pre>SVC(kernel=&#x27;linear&#x27;)</pre></div></div></div></div></div>"
            ]
          },
          "metadata": {},
          "execution_count": 13
        }
      ]
    },
    {
      "cell_type": "markdown",
      "source": [
        "Predicting and checking accuracy of model of test Data Set"
      ],
      "metadata": {
        "id": "EeUIUVhrwLY7"
      }
    },
    {
      "cell_type": "code",
      "source": [
        "print(\"Accuracy of model is :\",accuracy_score(model.predict(test_X),test_Y))"
      ],
      "metadata": {
        "colab": {
          "base_uri": "https://localhost:8080/"
        },
        "id": "RoqZlD8utcoU",
        "outputId": "7791429a-c0f6-40bf-9fc6-ab556473cd73"
      },
      "execution_count": 15,
      "outputs": [
        {
          "output_type": "stream",
          "name": "stdout",
          "text": [
            "Accuracy of model is : 0.8125\n"
          ]
        }
      ]
    }
  ]
}